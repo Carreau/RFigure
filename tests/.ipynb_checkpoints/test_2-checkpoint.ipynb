{
 "cells": [
  {
   "cell_type": "code",
   "execution_count": 1,
   "metadata": {},
   "outputs": [],
   "source": [
    "import RFigure,os\n",
    "filepath_testfile  = \"Test.rfig3\"\n",
    "if \"tests\" in os.listdir():\n",
    "    filepath_testfile = os.path.join(\"tests\",filepath_testfile)\n",
    "assert os.path.exists(filepath_testfile)"
   ]
  },
  {
   "cell_type": "code",
   "execution_count": 2,
   "metadata": {},
   "outputs": [],
   "source": [
    "%load_ext RFigure.RFigureMagics"
   ]
  },
  {
   "cell_type": "code",
   "execution_count": 3,
   "metadata": {},
   "outputs": [
    {
     "name": "stderr",
     "output_type": "stream",
     "text": [
      "/home/dessalles/Programmation/Python/Project_RFigure/noGithub/myenv/lib/python3.6/site-packages/ipykernel_launcher.py:5: RuntimeWarning: divide by zero encountered in true_divide\n",
      "  \"\"\"\n"
     ]
    }
   ],
   "source": [
    "import numpy as np\n",
    "X = np.arange(0,10,.1)\n",
    "Y = np.cos(X)\n",
    "c = \"This is a comment\"\n",
    "d = dict(X=X,Y=1/X) # another variable dictionary"
   ]
  },
  {
   "cell_type": "code",
   "execution_count": 4,
   "metadata": {},
   "outputs": [
    {
     "name": "stdout",
     "output_type": "stream",
     "text": [
      "usage: %%rfig_save [--help] [--format_name] [-d D] [-c C]\n",
      "                   [--fig_type FIG_TYPE]\n",
      "                   [filepath]\n",
      "\n",
      "Will save a RFigure, whose instructions are the code written in the remaining of the cell.\n",
      "\n",
      "positional arguments:\n",
      "  filepath              Path of the file.\n",
      "\n",
      "optional arguments:\n",
      "  --help, -h            show this help message and exit\n",
      "  --format_name, -fn    Format the name of the file as Figure_YYYYMMDD_foo\n",
      "                        where YYYYMMDD stands for the date. `foo` will be the\n",
      "                        file names. If the file name is already under this\n",
      "                        format, do notiong.\n",
      "  -d D                  Dictionary of the locals in the rfigure file. If not\n",
      "                        specified, guess from the instructions.\n",
      "  -c C                  Comments associated to the file\n",
      "  --fig_type FIG_TYPE, -ft FIG_TYPE\n",
      "                        extension of the figure, should be in ['eps', 'pdf',\n",
      "                        'png']\n",
      "\n",
      "Examples (in IPython/Jupyter):\n",
      "\n",
      "In[1]:\n",
      "> import numpy as np\n",
      "> a = np.arange(0,10,.1)\n",
      "> b = np.cos(a)\n",
      "> comment = \"A comment\"\n",
      "> diction = {'a':a,'b':1/a}\n",
      "\n",
      "In[2]:\n",
      "> %%rfig_save Test\n",
      "> # search the variables in the instructions, no comment and save in pdf\n",
      "> plt.plot(a,b)\n",
      "\n",
      "In[3]:\n",
      "> %%rfig_save -c comment Test\n",
      "> # search the variables in the instructions, with a comment and save in pdf\n",
      "> plt.plot(a,b)\n",
      "\n",
      "In[4]:\n",
      "> %%rfig_save --type png\n",
      "> # search the variables in the instructions, no comment and save in png\n",
      "> plt.plot(a,b)\n",
      "\n",
      "In[5]:\n",
      "> %%rfig_save -d diction Test\n",
      "> # specify other variables, no coment, save in pdf\n",
      "> plt.plot(a,b)\n"
     ]
    },
    {
     "data": {
      "text/plain": [
       "True"
      ]
     },
     "execution_count": 4,
     "metadata": {},
     "output_type": "execute_result"
    }
   ],
   "source": [
    "%%rfig_save -h\n",
    "pass"
   ]
  },
  {
   "cell_type": "code",
   "execution_count": 5,
   "metadata": {},
   "outputs": [
    {
     "name": "stdout",
     "output_type": "stream",
     "text": [
      "We determined the RFigure variables to be: `X`, `Y`\n",
      "Pickle success\n",
      "========== END SAVE =========\n"
     ]
    }
   ],
   "source": [
    "%%rfig_save Test.rfig3\n",
    "# search the variables in the instructions, no comment and save in pdf\n",
    "plt.plot(X,Y)"
   ]
  },
  {
   "cell_type": "code",
   "execution_count": 6,
   "metadata": {},
   "outputs": [
    {
     "name": "stdout",
     "output_type": "stream",
     "text": [
      "We determined the RFigure variables to be: `c`, `X`, `Y`\n",
      "Pickle success\n",
      "========== END SAVE =========\n"
     ]
    }
   ],
   "source": [
    "%%rfig_save -c c Test.rfig3\n",
    "# search the variables in the instructions, put the comment of the variable `c`\n",
    "plt.plot(X,Y)"
   ]
  },
  {
   "cell_type": "code",
   "execution_count": 7,
   "metadata": {},
   "outputs": [
    {
     "name": "stdout",
     "output_type": "stream",
     "text": [
      "Pickle success\n",
      "========== END SAVE =========\n"
     ]
    }
   ],
   "source": [
    "%%rfig_save -c c -d d Test.rfig3\n",
    "# search the variables in the instructions, put the comment of the variable `c`\n",
    "plt.plot(X,Y)"
   ]
  },
  {
   "cell_type": "code",
   "execution_count": 8,
   "metadata": {},
   "outputs": [
    {
     "name": "stdout",
     "output_type": "stream",
     "text": [
      "We determined the RFigure variables to be: `c`, `X`, `Y`\n",
      "Pickle success\n",
      "========== END SAVE =========\n"
     ]
    }
   ],
   "source": [
    "%%rfig_save -c \"'This is another comment'\" Test.rfig3\n",
    "# search the variables in the instructions, put the comment of the variable `c`\n",
    "plt.plot(X,Y)"
   ]
  },
  {
   "cell_type": "code",
   "execution_count": 12,
   "metadata": {},
   "outputs": [
    {
     "name": "stdout",
     "output_type": "stream",
     "text": [
      "We determined the RFigure variables to be: `c`, `X`, `Y`\n",
      "Pickle success\n",
      "========== END SAVE =========\n"
     ]
    }
   ],
   "source": [
    "%%rfig_save -c \"'This is another comment'\" -fn Test.rfig3\n",
    "# search the variables in the instructions, put the comment of the variable `c`\n",
    "plt.plot(X,Y)"
   ]
  },
  {
   "cell_type": "code",
   "execution_count": 14,
   "metadata": {},
   "outputs": [
    {
     "name": "stdout",
     "output_type": "stream",
     "text": [
      "Figure_20190108_Test.\n"
     ]
    },
    {
     "ename": "AssertionError",
     "evalue": "",
     "output_type": "error",
     "traceback": [
      "\u001b[0;31m---------------------------------------------------------------------------\u001b[0m",
      "\u001b[0;31mAssertionError\u001b[0m                            Traceback (most recent call last)",
      "\u001b[0;32m<ipython-input-14-cdba4b5023ed>\u001b[0m in \u001b[0;36m<module>\u001b[0;34m\u001b[0m\n\u001b[1;32m      5\u001b[0m \u001b[0mf\u001b[0m \u001b[0;34m=\u001b[0m  \u001b[0;34m\"Figure_%s_Test.\"\u001b[0m\u001b[0;34m%\u001b[0m\u001b[0mRDateDisplay\u001b[0m\u001b[0;34m.\u001b[0m\u001b[0mcur_date\u001b[0m\u001b[0;34m(\u001b[0m\u001b[0;34m)\u001b[0m\u001b[0;34m\u001b[0m\u001b[0;34m\u001b[0m\u001b[0m\n\u001b[1;32m      6\u001b[0m \u001b[0mprint\u001b[0m\u001b[0;34m(\u001b[0m\u001b[0mf\u001b[0m\u001b[0;34m)\u001b[0m\u001b[0;34m\u001b[0m\u001b[0;34m\u001b[0m\u001b[0m\n\u001b[0;32m----> 7\u001b[0;31m \u001b[0;32massert\u001b[0m \u001b[0mos\u001b[0m\u001b[0;34m.\u001b[0m\u001b[0mpath\u001b[0m\u001b[0;34m.\u001b[0m\u001b[0mexists\u001b[0m\u001b[0;34m(\u001b[0m\u001b[0mf\u001b[0m\u001b[0;34m+\u001b[0m\u001b[0;34m\".pdf\"\u001b[0m\u001b[0;34m)\u001b[0m\u001b[0;34m\u001b[0m\u001b[0;34m\u001b[0m\u001b[0m\n\u001b[0m\u001b[1;32m      8\u001b[0m \u001b[0mos\u001b[0m\u001b[0;34m.\u001b[0m\u001b[0mremove\u001b[0m\u001b[0;34m(\u001b[0m\u001b[0mf\u001b[0m\u001b[0;34m+\u001b[0m\u001b[0;34m\".pdf\"\u001b[0m\u001b[0;34m)\u001b[0m\u001b[0;34m\u001b[0m\u001b[0;34m\u001b[0m\u001b[0m\n\u001b[1;32m      9\u001b[0m \u001b[0;32massert\u001b[0m \u001b[0mos\u001b[0m\u001b[0;34m.\u001b[0m\u001b[0mpath\u001b[0m\u001b[0;34m.\u001b[0m\u001b[0mexists\u001b[0m\u001b[0;34m(\u001b[0m\u001b[0mf\u001b[0m\u001b[0;34m+\u001b[0m\u001b[0;34m\".rfig3\"\u001b[0m\u001b[0;34m)\u001b[0m\u001b[0;34m\u001b[0m\u001b[0;34m\u001b[0m\u001b[0m\n",
      "\u001b[0;31mAssertionError\u001b[0m: "
     ]
    }
   ],
   "source": [
    "# Assert the files with formated name and removes it\n",
    "import os\n",
    "from RFigure.RFigureMisc import RDateDisplay\n",
    "\n",
    "f =  \"Figure_%s_Test\"%RDateDisplay.cur_date()\n",
    "print(f)\n",
    "assert os.path.exists(f+\".pdf\")\n",
    "os.remove(f+\".pdf\")\n",
    "assert os.path.exists(f+\".rfig3\")\n",
    "os.remove(f+\".rfig3\")"
   ]
  },
  {
   "cell_type": "code",
   "execution_count": null,
   "metadata": {},
   "outputs": [],
   "source": [
    "%%rfig_save -c \"'This is another comment'\" -ft eps Test.rfig3\n",
    "# search the variables in the instructions, put the comment of the variable `c`\n",
    "plt.plot(X,Y)"
   ]
  },
  {
   "cell_type": "code",
   "execution_count": null,
   "metadata": {},
   "outputs": [],
   "source": [
    "# Assert the eps files has been created and remove it\n",
    "assert os.path.exists(\"Test.eps\")\n",
    "os.remove(\"Test.eps\")"
   ]
  },
  {
   "cell_type": "code",
   "execution_count": null,
   "metadata": {},
   "outputs": [],
   "source": []
  }
 ],
 "metadata": {
  "kernelspec": {
   "display_name": "Python 3",
   "language": "python",
   "name": "python3"
  },
  "language_info": {
   "codemirror_mode": {
    "name": "ipython",
    "version": 3
   },
   "file_extension": ".py",
   "mimetype": "text/x-python",
   "name": "python",
   "nbconvert_exporter": "python",
   "pygments_lexer": "ipython3",
   "version": "3.6.7"
  }
 },
 "nbformat": 4,
 "nbformat_minor": 2
}
